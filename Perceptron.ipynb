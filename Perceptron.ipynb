{
 "cells": [
  {
   "cell_type": "markdown",
   "id": "resident-poultry",
   "metadata": {},
   "source": [
    "### Perceptron - Lab 2.2"
   ]
  },
  {
   "cell_type": "markdown",
   "id": "ongoing-tourism",
   "metadata": {},
   "source": [
    "### donuts vs Bagels\n",
    "- inputs [shininess, hole size]\n",
    "    - shiny = 1\n",
    "    - large hole = 1\n",
    "- labels\n",
    "    - 1 - donut\n",
    "    - 2 = bagel"
   ]
  },
  {
   "cell_type": "code",
   "execution_count": 1,
   "id": "governmental-diana",
   "metadata": {},
   "outputs": [],
   "source": [
    "import numpy as np"
   ]
  },
  {
   "cell_type": "code",
   "execution_count": 2,
   "id": "neural-strain",
   "metadata": {},
   "outputs": [],
   "source": [
    "#4 sets of input\n",
    "input_vals = np.array([[0,0], [0,1], [1,0], [1,1]])\n",
    "#one label for each set (only one donut labled below)\n",
    "labels = np.array([0, 0, 0, 1])"
   ]
  },
  {
   "cell_type": "code",
   "execution_count": 3,
   "id": "balanced-livestock",
   "metadata": {},
   "outputs": [
    {
     "name": "stdout",
     "output_type": "stream",
     "text": [
      "True\n",
      "False\n",
      "False\n",
      "False\n"
     ]
    }
   ],
   "source": [
    "for i in range(len(input_vals)):\n",
    "    #turn each vector of features inot a single value\n",
    "    vs = input_vals[i].sum() #numpy vector sum operation\n",
    "    #check if single summed value equals the label\n",
    "    print(vs == labels[i])"
   ]
  },
  {
   "cell_type": "code",
   "execution_count": 4,
   "id": "raising-cambridge",
   "metadata": {},
   "outputs": [
    {
     "name": "stdout",
     "output_type": "stream",
     "text": [
      "True\n",
      "False\n",
      "False\n",
      "False\n"
     ]
    }
   ],
   "source": [
    "#apply weights to dtermine how important one feature is over another\n",
    "weights = np.array([1,2]) #hole more imporatnt than shine\n",
    "for i in range(len(input_vals)):\n",
    "    w_vec = input_vals[i] * weights\n",
    "    vs = w_vec.sum()\n",
    "    #check if single summed value equals the label\n",
    "    print(vs == labels[i])"
   ]
  },
  {
   "cell_type": "code",
   "execution_count": 5,
   "id": "stuck-court",
   "metadata": {},
   "outputs": [
    {
     "name": "stdout",
     "output_type": "stream",
     "text": [
      "0 0\n",
      "2 0\n",
      "1 0\n",
      "3 1\n"
     ]
    }
   ],
   "source": [
    "#apply weights to dtermine how important one feature is over another\n",
    "weights = np.array([1,2]) #hole more imporatnt than shine\n",
    "for i in range(len(input_vals)):\n",
    "    w_vec = input_vals[i] * weights\n",
    "    vs = w_vec.sum()\n",
    "    #check if single summed value equals the label\n",
    "    print(vs, labels[i])"
   ]
  },
  {
   "cell_type": "code",
   "execution_count": 6,
   "id": "graphic-novel",
   "metadata": {},
   "outputs": [],
   "source": [
    "def weighted_sum(vec, weights):\n",
    "    v_vec = vec*weights;\n",
    "    return w_vec.sum()"
   ]
  },
  {
   "cell_type": "code",
   "execution_count": 7,
   "id": "different-reason",
   "metadata": {},
   "outputs": [],
   "source": [
    "def activation(val, threshold):\n",
    "    if val >= threshold:\n",
    "        return 1\n",
    "    else:\n",
    "        return 0"
   ]
  },
  {
   "cell_type": "code",
   "execution_count": 8,
   "id": "peripheral-peter",
   "metadata": {},
   "outputs": [
    {
     "name": "stdout",
     "output_type": "stream",
     "text": [
      "False\n",
      "False\n",
      "False\n",
      "True\n"
     ]
    }
   ],
   "source": [
    "weights = np.array([1,2]) #hole more imporatnt than shine\n",
    "\n",
    "for i in range(len(input_vals)):\n",
    "    ws = weighted_sum(input_vals[i], weights)\n",
    "    threshold = 3\n",
    "    print(activation(ws,threshold) == labels[i])"
   ]
  },
  {
   "cell_type": "code",
   "execution_count": 10,
   "id": "collected-repeat",
   "metadata": {},
   "outputs": [],
   "source": [
    "precise_input_vals = np.array([[.4,.4], [.47,.8], [1.2,.49], [1.1, .8]])\n",
    "labels = np.array([0, 0, 0, 1])"
   ]
  },
  {
   "cell_type": "code",
   "execution_count": 11,
   "id": "bottom-population",
   "metadata": {},
   "outputs": [
    {
     "name": "stdout",
     "output_type": "stream",
     "text": [
      "3 0\n",
      "3 0\n",
      "3 0\n",
      "3 1\n"
     ]
    }
   ],
   "source": [
    "weights = np.array([1,2]) #hole more imporatnt than shine\n",
    "\n",
    "for i in range(len(precise_input_vals)):\n",
    "    ws = weighted_sum(precise_input_vals[i], weights)\n",
    "    threshold = 3\n",
    "    print(ws, labels[i])"
   ]
  },
  {
   "cell_type": "code",
   "execution_count": 15,
   "id": "informational-convenience",
   "metadata": {},
   "outputs": [
    {
     "name": "stdout",
     "output_type": "stream",
     "text": [
      "False\n",
      "3 0\n",
      "False\n",
      "3 0\n",
      "False\n",
      "3 0\n",
      "True\n",
      "3 1\n"
     ]
    }
   ],
   "source": [
    "weights = np.array([1,2]) #hole more imporatnt than shine\n",
    "\n",
    "for i in range(len(precise_input_vals)):\n",
    "    ws = weighted_sum(precise_input_vals[i], weights)\n",
    "    threshold = 3\n",
    "    print(activation(ws,threshold) == labels[i])\n",
    "    print(ws, labels[i])"
   ]
  },
  {
   "cell_type": "code",
   "execution_count": 13,
   "id": "immediate-niger",
   "metadata": {},
   "outputs": [
    {
     "name": "stdout",
     "output_type": "stream",
     "text": [
      "[[0.4  0.4 ]\n",
      " [0.47 0.8 ]\n",
      " [1.2  0.49]\n",
      " [1.1  0.8 ]]\n"
     ]
    }
   ],
   "source": [
    "print(precise_input_vals)"
   ]
  },
  {
   "cell_type": "code",
   "execution_count": 14,
   "id": "serious-vacuum",
   "metadata": {},
   "outputs": [
    {
     "name": "stdout",
     "output_type": "stream",
     "text": [
      "[0 0 0 1]\n"
     ]
    }
   ],
   "source": [
    "print(labels)"
   ]
  },
  {
   "cell_type": "code",
   "execution_count": 16,
   "id": "humanitarian-evanescence",
   "metadata": {},
   "outputs": [
    {
     "name": "stdout",
     "output_type": "stream",
     "text": [
      "False\n",
      "3 0\n",
      "False\n",
      "3 0\n",
      "False\n",
      "3 0\n",
      "True\n",
      "3 1\n"
     ]
    }
   ],
   "source": [
    "weights = np.array([1,2]) #hole more imporatnt than shine\n",
    "\n",
    "for i in range(len(precise_input_vals)):\n",
    "    ws = weighted_sum(precise_input_vals[i], weights)\n",
    "    threshold = 3\n",
    "    print(activation(ws,threshold) == labels[i])\n",
    "    print(ws, labels[i])"
   ]
  },
  {
   "cell_type": "code",
   "execution_count": null,
   "id": "handy-sunrise",
   "metadata": {},
   "outputs": [],
   "source": []
  }
 ],
 "metadata": {
  "kernelspec": {
   "display_name": "Python 3",
   "language": "python",
   "name": "python3"
  },
  "language_info": {
   "codemirror_mode": {
    "name": "ipython",
    "version": 3
   },
   "file_extension": ".py",
   "mimetype": "text/x-python",
   "name": "python",
   "nbconvert_exporter": "python",
   "pygments_lexer": "ipython3",
   "version": "3.7.9"
  }
 },
 "nbformat": 4,
 "nbformat_minor": 5
}
