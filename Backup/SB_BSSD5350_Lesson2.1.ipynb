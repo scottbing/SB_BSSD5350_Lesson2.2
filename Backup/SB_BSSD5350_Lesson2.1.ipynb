{
 "cells": [
  {
   "cell_type": "markdown",
   "id": "alternate-certificate",
   "metadata": {},
   "source": [
    "## Scott Bing - BSSD 5350 - Lesson 2 - Working with Matricies"
   ]
  },
  {
   "cell_type": "code",
   "execution_count": 1,
   "id": "constitutional-substance",
   "metadata": {},
   "outputs": [],
   "source": [
    "import numpy as np"
   ]
  },
  {
   "cell_type": "code",
   "execution_count": 2,
   "id": "interracial-formula",
   "metadata": {},
   "outputs": [],
   "source": [
    "# Question 4 \n",
    "\n",
    "# Define the matricies\n",
    "A = [[3, -1, 2],\n",
    "     [-2, 4, 0]]\n",
    "B = [[2,  0],\n",
    "     [-1, 4],\n",
    "     [-3, 2]]"
   ]
  },
  {
   "cell_type": "code",
   "execution_count": 3,
   "id": "monthly-trade",
   "metadata": {},
   "outputs": [
    {
     "data": {
      "text/plain": [
       "array([[ 1,  0],\n",
       "       [-8, 16]])"
      ]
     },
     "execution_count": 3,
     "metadata": {},
     "output_type": "execute_result"
    }
   ],
   "source": [
    "# convert matricies to arrays\n",
    "matrixA = np.array(A)\n",
    "matrixB = np.array(B)\n",
    "\n",
    "# use numpy's dot product function\n",
    "matrixA.dot(matrixB) "
   ]
  },
  {
   "cell_type": "code",
   "execution_count": 4,
   "id": "tight-supervision",
   "metadata": {},
   "outputs": [
    {
     "data": {
      "text/plain": [
       "array([[  6,  -2,   4],\n",
       "       [-11,  17,  -2],\n",
       "       [-13,  11,  -6]])"
      ]
     },
     "execution_count": 4,
     "metadata": {},
     "output_type": "execute_result"
    }
   ],
   "source": [
    "# Question 7\n",
    "# Commutative property of multiplication \n",
    "\n",
    "# use numpy's dot product function\n",
    "matrixB.dot(matrixA) "
   ]
  },
  {
   "cell_type": "code",
   "execution_count": 5,
   "id": "tough-nepal",
   "metadata": {},
   "outputs": [],
   "source": [
    "# Question 12 \n",
    "\n",
    "# Define the matricies\n",
    "A =  [[ 3, -2, 5],\n",
    "     [ 0, -1, 6],\n",
    "     [-4, 2, -1]]\n",
    "B = [[ 2, -1, 0],\n",
    "     [ 3, -5, 2],\n",
    "     [ 1,  4, -2]]"
   ]
  },
  {
   "cell_type": "code",
   "execution_count": 6,
   "id": "literary-diving",
   "metadata": {},
   "outputs": [
    {
     "data": {
      "text/plain": [
       "array([[  6,  -3,   4],\n",
       "       [  1,   3, -17],\n",
       "       [ 11, -10,  31]])"
      ]
     },
     "execution_count": 6,
     "metadata": {},
     "output_type": "execute_result"
    }
   ],
   "source": [
    "# convert matricies to arrays\n",
    "matrixA = np.array(A)\n",
    "matrixB = np.array(B)\n",
    "\n",
    "# use numpy's dot product function\n",
    "matrixB.dot(matrixA) "
   ]
  }
 ],
 "metadata": {
  "kernelspec": {
   "display_name": "Python 3",
   "language": "python",
   "name": "python3"
  },
  "language_info": {
   "codemirror_mode": {
    "name": "ipython",
    "version": 3
   },
   "file_extension": ".py",
   "mimetype": "text/x-python",
   "name": "python",
   "nbconvert_exporter": "python",
   "pygments_lexer": "ipython3",
   "version": "3.7.9"
  }
 },
 "nbformat": 4,
 "nbformat_minor": 5
}
