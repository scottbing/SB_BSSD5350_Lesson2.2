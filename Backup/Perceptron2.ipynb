{
 "cells": [
  {
   "cell_type": "markdown",
   "id": "floating-sport",
   "metadata": {},
   "source": [
    "### Percptron Approach"
   ]
  },
  {
   "cell_type": "code",
   "execution_count": 2,
   "id": "radical-ticket",
   "metadata": {},
   "outputs": [],
   "source": [
    "import random #used to generate random weights"
   ]
  },
  {
   "cell_type": "code",
   "execution_count": 3,
   "id": "searching-maker",
   "metadata": {},
   "outputs": [],
   "source": [
    "import numpy as np"
   ]
  },
  {
   "cell_type": "code",
   "execution_count": 4,
   "id": "derived-finger",
   "metadata": {},
   "outputs": [],
   "source": [
    "piv = np.array([[.4,.4], [.47,.8], [1.2,.49], [1.1, .8]])\n",
    "labels = np.array([0, 0, 0, 1])"
   ]
  },
  {
   "cell_type": "code",
   "execution_count": 5,
   "id": "operational-technology",
   "metadata": {},
   "outputs": [
    {
     "name": "stdout",
     "output_type": "stream",
     "text": [
      "[[0.4  0.4 ]\n",
      " [0.47 0.8 ]\n",
      " [1.2  0.49]\n",
      " [1.1  0.8 ]]\n",
      "[0 0 0 1]\n"
     ]
    }
   ],
   "source": [
    "print(piv)\n",
    "print(labels)"
   ]
  },
  {
   "cell_type": "code",
   "execution_count": 9,
   "id": "involved-taiwan",
   "metadata": {},
   "outputs": [
    {
     "name": "stdout",
     "output_type": "stream",
     "text": [
      "[-0.02727061 -0.5917072 ]\n"
     ]
    }
   ],
   "source": [
    "#initialize random weights between -1 and 1\n",
    "weights = np.array([random.uniform(-1.0, 1.0), random.uniform(-1.0, 1.0)])\n",
    "threshold = 2.0\n",
    "print(weights)"
   ]
  },
  {
   "cell_type": "code",
   "execution_count": 16,
   "id": "needed-election",
   "metadata": {},
   "outputs": [],
   "source": [
    "def weighted_sum(vec, weights):\n",
    "    w_vec = vec*weights;\n",
    "    return w_vec.sum()"
   ]
  },
  {
   "cell_type": "code",
   "execution_count": 17,
   "id": "ideal-bracelet",
   "metadata": {},
   "outputs": [],
   "source": [
    "def activation(val, threshold):\n",
    "    if val >= threshold:\n",
    "        return 1\n",
    "    else:\n",
    "        return 0"
   ]
  },
  {
   "cell_type": "code",
   "execution_count": null,
   "id": "valid-seminar",
   "metadata": {},
   "outputs": [],
   "source": [
    "def fit():\n",
    "    for i in range(len(piv)):\n",
    "        w_sum = weighted_sum(piv[i], weights)\n",
    "        act = activation(w_sum, threshold)\n",
    "        print(act, labels[i])"
   ]
  },
  {
   "cell_type": "code",
   "execution_count": 19,
   "id": "fewer-spice",
   "metadata": {},
   "outputs": [
    {
     "name": "stdout",
     "output_type": "stream",
     "text": [
      "0 0\n",
      "0 0\n",
      "0 0\n",
      "0 1\n"
     ]
    }
   ],
   "source": [
    "fit()"
   ]
  },
  {
   "cell_type": "code",
   "execution_count": null,
   "id": "premium-class",
   "metadata": {},
   "outputs": [],
   "source": []
  }
 ],
 "metadata": {
  "kernelspec": {
   "display_name": "Python 3",
   "language": "python",
   "name": "python3"
  },
  "language_info": {
   "codemirror_mode": {
    "name": "ipython",
    "version": 3
   },
   "file_extension": ".py",
   "mimetype": "text/x-python",
   "name": "python",
   "nbconvert_exporter": "python",
   "pygments_lexer": "ipython3",
   "version": "3.7.9"
  }
 },
 "nbformat": 4,
 "nbformat_minor": 5
}
